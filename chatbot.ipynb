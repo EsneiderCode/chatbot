{
  "nbformat": 4,
  "nbformat_minor": 0,
  "metadata": {
    "colab": {
      "provenance": []
    },
    "kernelspec": {
      "name": "python3",
      "display_name": "Python 3"
    },
    "language_info": {
      "name": "python"
    }
  },
  "cells": [
    {
      "cell_type": "code",
      "execution_count": 62,
      "metadata": {
        "colab": {
          "base_uri": "https://localhost:8080/"
        },
        "id": "EivkjTMb0_lW",
        "outputId": "51466580-90a8-44f4-cdac-f18a1589f21c"
      },
      "outputs": [
        {
          "output_type": "stream",
          "name": "stdout",
          "text": [
            "Original text:\n",
            " La felicidad es un estado de ánimo deseado y perseguido por muchas personas en todo el mundo. Se trata de una sensación de bienestar y satisfacción interna que puede manifestarse de diversas maneras. La búsqueda de la felicidad es un objetivo común para muchas personas, ya que todos anhelamos experimentar momentos de alegría y plenitud en nuestras vidas.\n",
            "\n",
            "La felicidad puede encontrarse en las pequeñas cosas de la vida, como disfrutar de una comida deliciosa, compartir momentos especiales con seres queridos, contemplar un hermoso paisaje o simplemente reír a carcajadas. También puede estar vinculada al logro de metas personales, alcanzar el éxito profesional, encontrar el amor verdadero o experimentar un sentido de propósito y significado en la vida.\n",
            "\n",
            "Es importante destacar que la felicidad no es un estado permanente, sino más bien una emoción fugaz que viene y va. Todos enfrentamos desafíos y adversidades en nuestras vidas que pueden afectar nuestra felicidad en diferentes momentos. Sin embargo, aprender a manejar esas situaciones difíciles y cultivar una mentalidad positiva puede ayudarnos a encontrar la felicidad incluso en tiempos de adversidad.\n",
            "\n",
            "La felicidad también está estrechamente relacionada con la gratitud y la apreciación de lo que tenemos. Apreciar las pequeñas cosas y encontrar alegría en lo cotidiano puede marcar una gran diferencia en nuestra felicidad general. Además, cultivar relaciones saludables, practicar el autocuidado, buscar actividades que nos apasionen y fomentar un sentido de comunidad y conexión con los demás también contribuyen a nuestra felicidad.\n",
            "\n",
            "Cada persona tiene su propia definición y camino hacia la felicidad, ya que lo que nos hace felices puede variar de un individuo a otro. Es un viaje personal y único que requiere autoexploración y autenticidad. En última instancia, la felicidad reside en nosotros mismos y depende de cómo elijamos vivir nuestras vidas, encontrar significado y perseguir aquello que nos hace sentir plenos y satisfechos.\n",
            "\n",
            "Recuerda que la felicidad no es un destino final, sino un viaje continuo. Buscar la felicidad implica cultivar una mentalidad positiva, aprender a manejar los desafíos y vivir en armonía con nuestros valores y propósitos. Al hacerlo, podemos encontrar alegría y satisfacción en cada paso del camino y disfrutar de una vida más plena y significativa.\n",
            "Lowercased text:\n",
            " la felicidad es un estado de ánimo deseado y perseguido por muchas personas en todo el mundo. se trata de una sensación de bienestar y satisfacción interna que puede manifestarse de diversas maneras. la búsqueda de la felicidad es un objetivo común para muchas personas, ya que todos anhelamos experimentar momentos de alegría y plenitud en nuestras vidas.\n",
            "\n",
            "la felicidad puede encontrarse en las pequeñas cosas de la vida, como disfrutar de una comida deliciosa, compartir momentos especiales con seres queridos, contemplar un hermoso paisaje o simplemente reír a carcajadas. también puede estar vinculada al logro de metas personales, alcanzar el éxito profesional, encontrar el amor verdadero o experimentar un sentido de propósito y significado en la vida.\n",
            "\n",
            "es importante destacar que la felicidad no es un estado permanente, sino más bien una emoción fugaz que viene y va. todos enfrentamos desafíos y adversidades en nuestras vidas que pueden afectar nuestra felicidad en diferentes momentos. sin embargo, aprender a manejar esas situaciones difíciles y cultivar una mentalidad positiva puede ayudarnos a encontrar la felicidad incluso en tiempos de adversidad.\n",
            "\n",
            "la felicidad también está estrechamente relacionada con la gratitud y la apreciación de lo que tenemos. apreciar las pequeñas cosas y encontrar alegría en lo cotidiano puede marcar una gran diferencia en nuestra felicidad general. además, cultivar relaciones saludables, practicar el autocuidado, buscar actividades que nos apasionen y fomentar un sentido de comunidad y conexión con los demás también contribuyen a nuestra felicidad.\n",
            "\n",
            "cada persona tiene su propia definición y camino hacia la felicidad, ya que lo que nos hace felices puede variar de un individuo a otro. es un viaje personal y único que requiere autoexploración y autenticidad. en última instancia, la felicidad reside en nosotros mismos y depende de cómo elijamos vivir nuestras vidas, encontrar significado y perseguir aquello que nos hace sentir plenos y satisfechos.\n",
            "\n",
            "recuerda que la felicidad no es un destino final, sino un viaje continuo. buscar la felicidad implica cultivar una mentalidad positiva, aprender a manejar los desafíos y vivir en armonía con nuestros valores y propósitos. al hacerlo, podemos encontrar alegría y satisfacción en cada paso del camino y disfrutar de una vida más plena y significativa.\n",
            "Sentences:\n",
            " ['la felicidad es un estado de ánimo deseado y perseguido por muchas personas en todo el mundo.', 'se trata de una sensación de bienestar y satisfacción interna que puede manifestarse de diversas maneras.', 'la búsqueda de la felicidad es un objetivo común para muchas personas, ya que todos anhelamos experimentar momentos de alegría y plenitud en nuestras vidas.', 'la felicidad puede encontrarse en las pequeñas cosas de la vida, como disfrutar de una comida deliciosa, compartir momentos especiales con seres queridos, contemplar un hermoso paisaje o simplemente reír a carcajadas.', 'también puede estar vinculada al logro de metas personales, alcanzar el éxito profesional, encontrar el amor verdadero o experimentar un sentido de propósito y significado en la vida.', 'es importante destacar que la felicidad no es un estado permanente, sino más bien una emoción fugaz que viene y va. todos enfrentamos desafíos y adversidades en nuestras vidas que pueden afectar nuestra felicidad en diferentes momentos.', 'sin embargo, aprender a manejar esas situaciones difíciles y cultivar una mentalidad positiva puede ayudarnos a encontrar la felicidad incluso en tiempos de adversidad.', 'la felicidad también está estrechamente relacionada con la gratitud y la apreciación de lo que tenemos.', 'apreciar las pequeñas cosas y encontrar alegría en lo cotidiano puede marcar una gran diferencia en nuestra felicidad general.', 'además, cultivar relaciones saludables, practicar el autocuidado, buscar actividades que nos apasionen y fomentar un sentido de comunidad y conexión con los demás también contribuyen a nuestra felicidad.', 'cada persona tiene su propia definición y camino hacia la felicidad, ya que lo que nos hace felices puede variar de un individuo a otro.', 'es un viaje personal y único que requiere autoexploración y autenticidad.', 'en última instancia, la felicidad reside en nosotros mismos y depende de cómo elijamos vivir nuestras vidas, encontrar significado y perseguir aquello que nos hace sentir plenos y satisfechos.', 'recuerda que la felicidad no es un destino final, sino un viaje continuo.', 'buscar la felicidad implica cultivar una mentalidad positiva, aprender a manejar los desafíos y vivir en armonía con nuestros valores y propósitos.', 'al hacerlo, podemos encontrar alegría y satisfacción en cada paso del camino y disfrutar de una vida más plena y significativa.']\n",
            "Words:\n",
            " ['la', 'felicidad', 'es', 'un', 'estado', 'de', 'ánimo', 'deseado', 'y', 'perseguido', 'por', 'muchas', 'personas', 'en', 'todo', 'el', 'mundo', '.', 'se', 'trata', 'de', 'una', 'sensación', 'de', 'bienestar', 'y', 'satisfacción', 'interna', 'que', 'puede', 'manifestarse', 'de', 'diversas', 'maneras', '.', 'la', 'búsqueda', 'de', 'la', 'felicidad', 'es', 'un', 'objetivo', 'común', 'para', 'muchas', 'personas', ',', 'ya', 'que', 'todos', 'anhelamos', 'experimentar', 'momentos', 'de', 'alegría', 'y', 'plenitud', 'en', 'nuestras', 'vidas', '.', 'la', 'felicidad', 'puede', 'encontrarse', 'en', 'las', 'pequeñas', 'cosas', 'de', 'la', 'vida', ',', 'como', 'disfrutar', 'de', 'una', 'comida', 'deliciosa', ',', 'compartir', 'momentos', 'especiales', 'con', 'seres', 'queridos', ',', 'contemplar', 'un', 'hermoso', 'paisaje', 'o', 'simplemente', 'reír', 'a', 'carcajadas', '.', 'también', 'puede', 'estar', 'vinculada', 'al', 'logro', 'de', 'metas', 'personales', ',', 'alcanzar', 'el', 'éxito', 'profesional', ',', 'encontrar', 'el', 'amor', 'verdadero', 'o', 'experimentar', 'un', 'sentido', 'de', 'propósito', 'y', 'significado', 'en', 'la', 'vida', '.', 'es', 'importante', 'destacar', 'que', 'la', 'felicidad', 'no', 'es', 'un', 'estado', 'permanente', ',', 'sino', 'más', 'bien', 'una', 'emoción', 'fugaz', 'que', 'viene', 'y', 'va.', 'todos', 'enfrentamos', 'desafíos', 'y', 'adversidades', 'en', 'nuestras', 'vidas', 'que', 'pueden', 'afectar', 'nuestra', 'felicidad', 'en', 'diferentes', 'momentos', '.', 'sin', 'embargo', ',', 'aprender', 'a', 'manejar', 'esas', 'situaciones', 'difíciles', 'y', 'cultivar', 'una', 'mentalidad', 'positiva', 'puede', 'ayudarnos', 'a', 'encontrar', 'la', 'felicidad', 'incluso', 'en', 'tiempos', 'de', 'adversidad', '.', 'la', 'felicidad', 'también', 'está', 'estrechamente', 'relacionada', 'con', 'la', 'gratitud', 'y', 'la', 'apreciación', 'de', 'lo', 'que', 'tenemos', '.', 'apreciar', 'las', 'pequeñas', 'cosas', 'y', 'encontrar', 'alegría', 'en', 'lo', 'cotidiano', 'puede', 'marcar', 'una', 'gran', 'diferencia', 'en', 'nuestra', 'felicidad', 'general', '.', 'además', ',', 'cultivar', 'relaciones', 'saludables', ',', 'practicar', 'el', 'autocuidado', ',', 'buscar', 'actividades', 'que', 'nos', 'apasionen', 'y', 'fomentar', 'un', 'sentido', 'de', 'comunidad', 'y', 'conexión', 'con', 'los', 'demás', 'también', 'contribuyen', 'a', 'nuestra', 'felicidad', '.', 'cada', 'persona', 'tiene', 'su', 'propia', 'definición', 'y', 'camino', 'hacia', 'la', 'felicidad', ',', 'ya', 'que', 'lo', 'que', 'nos', 'hace', 'felices', 'puede', 'variar', 'de', 'un', 'individuo', 'a', 'otro', '.', 'es', 'un', 'viaje', 'personal', 'y', 'único', 'que', 'requiere', 'autoexploración', 'y', 'autenticidad', '.', 'en', 'última', 'instancia', ',', 'la', 'felicidad', 'reside', 'en', 'nosotros', 'mismos', 'y', 'depende', 'de', 'cómo', 'elijamos', 'vivir', 'nuestras', 'vidas', ',', 'encontrar', 'significado', 'y', 'perseguir', 'aquello', 'que', 'nos', 'hace', 'sentir', 'plenos', 'y', 'satisfechos', '.', 'recuerda', 'que', 'la', 'felicidad', 'no', 'es', 'un', 'destino', 'final', ',', 'sino', 'un', 'viaje', 'continuo', '.', 'buscar', 'la', 'felicidad', 'implica', 'cultivar', 'una', 'mentalidad', 'positiva', ',', 'aprender', 'a', 'manejar', 'los', 'desafíos', 'y', 'vivir', 'en', 'armonía', 'con', 'nuestros', 'valores', 'y', 'propósitos', '.', 'al', 'hacerlo', ',', 'podemos', 'encontrar', 'alegría', 'y', 'satisfacción', 'en', 'cada', 'paso', 'del', 'camino', 'y', 'disfrutar', 'de', 'una', 'vida', 'más', 'plena', 'y', 'significativa', '.']\n",
            "Lemmatized words:\n",
            " ['la', 'felicidad', 'e', 'un', 'estado', 'de', 'ánimo', 'deseado', 'y', 'perseguido', 'por', 'muchas', 'persona', 'en', 'todo', 'el', 'mundo', '.', 'se', 'trata', 'de', 'una', 'sensación', 'de', 'bienestar', 'y', 'satisfacción', 'interna', 'que', 'puede', 'manifestarse', 'de', 'diversas', 'maneras', '.', 'la', 'búsqueda', 'de', 'la', 'felicidad', 'e', 'un', 'objetivo', 'común', 'para', 'muchas', 'persona', ',', 'ya', 'que', 'todos', 'anhelamos', 'experimentar', 'momentos', 'de', 'alegría', 'y', 'plenitud', 'en', 'nuestras', 'vidas', '.', 'la', 'felicidad', 'puede', 'encontrarse', 'en', 'la', 'pequeñas', 'cosas', 'de', 'la', 'vida', ',', 'como', 'disfrutar', 'de', 'una', 'comida', 'deliciosa', ',', 'compartir', 'momentos', 'especiales', 'con', 'seres', 'queridos', ',', 'contemplar', 'un', 'hermoso', 'paisaje', 'o', 'simplemente', 'reír', 'a', 'carcajadas', '.', 'también', 'puede', 'estar', 'vinculada', 'al', 'logro', 'de', 'metas', 'personales', ',', 'alcanzar', 'el', 'éxito', 'profesional', ',', 'encontrar', 'el', 'amor', 'verdadero', 'o', 'experimentar', 'un', 'sentido', 'de', 'propósito', 'y', 'significado', 'en', 'la', 'vida', '.', 'e', 'importante', 'destacar', 'que', 'la', 'felicidad', 'no', 'e', 'un', 'estado', 'permanente', ',', 'sino', 'más', 'bien', 'una', 'emoción', 'fugaz', 'que', 'viene', 'y', 'va.', 'todos', 'enfrentamos', 'desafíos', 'y', 'adversidades', 'en', 'nuestras', 'vidas', 'que', 'pueden', 'afectar', 'nuestra', 'felicidad', 'en', 'diferentes', 'momentos', '.', 'sin', 'embargo', ',', 'aprender', 'a', 'manejar', 'esas', 'situaciones', 'difíciles', 'y', 'cultivar', 'una', 'mentalidad', 'positiva', 'puede', 'ayudarnos', 'a', 'encontrar', 'la', 'felicidad', 'incluso', 'en', 'tiempos', 'de', 'adversidad', '.', 'la', 'felicidad', 'también', 'está', 'estrechamente', 'relacionada', 'con', 'la', 'gratitud', 'y', 'la', 'apreciación', 'de', 'lo', 'que', 'tenemos', '.', 'apreciar', 'la', 'pequeñas', 'cosas', 'y', 'encontrar', 'alegría', 'en', 'lo', 'cotidiano', 'puede', 'marcar', 'una', 'gran', 'diferencia', 'en', 'nuestra', 'felicidad', 'general', '.', 'además', ',', 'cultivar', 'relaciones', 'saludables', ',', 'practicar', 'el', 'autocuidado', ',', 'buscar', 'actividades', 'que', 'no', 'apasionen', 'y', 'fomentar', 'un', 'sentido', 'de', 'comunidad', 'y', 'conexión', 'con', 'los', 'demás', 'también', 'contribuyen', 'a', 'nuestra', 'felicidad', '.', 'cada', 'persona', 'tiene', 'su', 'propia', 'definición', 'y', 'camino', 'hacia', 'la', 'felicidad', ',', 'ya', 'que', 'lo', 'que', 'no', 'hace', 'felices', 'puede', 'variar', 'de', 'un', 'individuo', 'a', 'otro', '.', 'e', 'un', 'viaje', 'personal', 'y', 'único', 'que', 'requiere', 'autoexploración', 'y', 'autenticidad', '.', 'en', 'última', 'instancia', ',', 'la', 'felicidad', 'reside', 'en', 'nosotros', 'mismos', 'y', 'depende', 'de', 'cómo', 'elijamos', 'vivir', 'nuestras', 'vidas', ',', 'encontrar', 'significado', 'y', 'perseguir', 'aquello', 'que', 'no', 'hace', 'sentir', 'plenos', 'y', 'satisfechos', '.', 'recuerda', 'que', 'la', 'felicidad', 'no', 'e', 'un', 'destino', 'final', ',', 'sino', 'un', 'viaje', 'continuo', '.', 'buscar', 'la', 'felicidad', 'implica', 'cultivar', 'una', 'mentalidad', 'positiva', ',', 'aprender', 'a', 'manejar', 'los', 'desafíos', 'y', 'vivir', 'en', 'armonía', 'con', 'nuestros', 'valores', 'y', 'propósitos', '.', 'al', 'hacerlo', ',', 'podemos', 'encontrar', 'alegría', 'y', 'satisfacción', 'en', 'cada', 'paso', 'del', 'camino', 'y', 'disfrutar', 'de', 'una', 'vida', 'más', 'plenum', 'y', 'significativa', '.']\n",
            "Filtered words:\n",
            " ['la', 'felicidad', 'e', 'un', 'estado', 'de', 'ánimo', 'deseado', 'perseguido', 'por', 'muchas', 'persona', 'en', 'todo', 'el', 'mundo', '.', 'se', 'trata', 'de', 'una', 'sensación', 'de', 'bienestar', 'satisfacción', 'interna', 'que', 'puede', 'manifestarse', 'de', 'diversas', 'maneras', '.', 'la', 'búsqueda', 'de', 'la', 'felicidad', 'e', 'un', 'objetivo', 'común', 'para', 'muchas', 'persona', ',', 'ya', 'que', 'todos', 'anhelamos', 'experimentar', 'momentos', 'de', 'alegría', 'plenitud', 'en', 'nuestras', 'vidas', '.', 'la', 'felicidad', 'puede', 'encontrarse', 'en', 'la', 'pequeñas', 'cosas', 'de', 'la', 'vida', ',', 'como', 'disfrutar', 'de', 'una', 'comida', 'deliciosa', ',', 'compartir', 'momentos', 'especiales', 'con', 'seres', 'queridos', ',', 'contemplar', 'un', 'hermoso', 'paisaje', 'simplemente', 'reír', 'carcajadas', '.', 'también', 'puede', 'estar', 'vinculada', 'al', 'logro', 'de', 'metas', 'personales', ',', 'alcanzar', 'el', 'éxito', 'profesional', ',', 'encontrar', 'el', 'amor', 'verdadero', 'experimentar', 'un', 'sentido', 'de', 'propósito', 'significado', 'en', 'la', 'vida', '.', 'e', 'importante', 'destacar', 'que', 'la', 'felicidad', 'e', 'un', 'estado', 'permanente', ',', 'sino', 'más', 'bien', 'una', 'emoción', 'fugaz', 'que', 'viene', 'va.', 'todos', 'enfrentamos', 'desafíos', 'adversidades', 'en', 'nuestras', 'vidas', 'que', 'pueden', 'afectar', 'nuestra', 'felicidad', 'en', 'diferentes', 'momentos', '.', 'sin', 'embargo', ',', 'aprender', 'manejar', 'esas', 'situaciones', 'difíciles', 'cultivar', 'una', 'mentalidad', 'positiva', 'puede', 'ayudarnos', 'encontrar', 'la', 'felicidad', 'incluso', 'en', 'tiempos', 'de', 'adversidad', '.', 'la', 'felicidad', 'también', 'está', 'estrechamente', 'relacionada', 'con', 'la', 'gratitud', 'la', 'apreciación', 'de', 'lo', 'que', 'tenemos', '.', 'apreciar', 'la', 'pequeñas', 'cosas', 'encontrar', 'alegría', 'en', 'lo', 'cotidiano', 'puede', 'marcar', 'una', 'gran', 'diferencia', 'en', 'nuestra', 'felicidad', 'general', '.', 'además', ',', 'cultivar', 'relaciones', 'saludables', ',', 'practicar', 'el', 'autocuidado', ',', 'buscar', 'actividades', 'que', 'apasionen', 'fomentar', 'un', 'sentido', 'de', 'comunidad', 'conexión', 'con', 'los', 'demás', 'también', 'contribuyen', 'nuestra', 'felicidad', '.', 'cada', 'persona', 'tiene', 'su', 'propia', 'definición', 'camino', 'hacia', 'la', 'felicidad', ',', 'ya', 'que', 'lo', 'que', 'hace', 'felices', 'puede', 'variar', 'de', 'un', 'individuo', 'otro', '.', 'e', 'un', 'viaje', 'personal', 'único', 'que', 'requiere', 'autoexploración', 'autenticidad', '.', 'en', 'última', 'instancia', ',', 'la', 'felicidad', 'reside', 'en', 'nosotros', 'mismos', 'depende', 'de', 'cómo', 'elijamos', 'vivir', 'nuestras', 'vidas', ',', 'encontrar', 'significado', 'perseguir', 'aquello', 'que', 'hace', 'sentir', 'plenos', 'satisfechos', '.', 'recuerda', 'que', 'la', 'felicidad', 'e', 'un', 'destino', 'final', ',', 'sino', 'un', 'viaje', 'continuo', '.', 'buscar', 'la', 'felicidad', 'implica', 'cultivar', 'una', 'mentalidad', 'positiva', ',', 'aprender', 'manejar', 'los', 'desafíos', 'vivir', 'en', 'armonía', 'con', 'nuestros', 'valores', 'propósitos', '.', 'al', 'hacerlo', ',', 'podemos', 'encontrar', 'alegría', 'satisfacción', 'en', 'cada', 'paso', 'del', 'camino', 'disfrutar', 'de', 'una', 'vida', 'más', 'plenum', 'significativa', '.']\n",
            "Number of sentences: 16\n",
            "Number of words: 396\n",
            "['this', 'is', 'a', 'test', 'sentence', 'for', 'lemmatization']\n"
          ]
        },
        {
          "output_type": "stream",
          "name": "stderr",
          "text": [
            "[nltk_data] Downloading package punkt to /root/nltk_data...\n",
            "[nltk_data]   Package punkt is already up-to-date!\n",
            "[nltk_data] Downloading package wordnet to /root/nltk_data...\n",
            "[nltk_data]   Package wordnet is already up-to-date!\n",
            "[nltk_data] Downloading package stopwords to /root/nltk_data...\n",
            "[nltk_data]   Package stopwords is already up-to-date!\n"
          ]
        }
      ],
      "source": [
        "import pandas as pd\n",
        "import nltk\n",
        "import random\n",
        "import datetime\n",
        "from nltk.tokenize import sent_tokenize, word_tokenize\n",
        "from nltk.stem import WordNetLemmatizer\n",
        "from sklearn.feature_extraction.text import TfidfVectorizer\n",
        "from sklearn.metrics.pairwise import cosine_similarity\n",
        "from nltk.corpus import stopwords\n",
        "import string # to process standard python strings\n",
        "\n",
        "nltk.download('punkt')\n",
        "nltk.download('wordnet')\n",
        "nltk.download('stopwords')\n",
        "\n",
        "file_path = '/content/sample_data/chatbot.txt'\n",
        "with open(file_path, 'r') as file:\n",
        "    text_chatbot = file.read()\n",
        "\n",
        "print(\"Original text:\\n\", text_chatbot)\n",
        "\n",
        "# Convert to lowercase\n",
        "text_chatbot = text_chatbot.lower()\n",
        "print(\"Lowercased text:\\n\", text_chatbot)\n",
        "\n",
        "# Tokenize into sentences\n",
        "sent_tokens = sent_tokenize(text_chatbot)\n",
        "print(\"Sentences:\\n\", sent_tokens)\n",
        "\n",
        "# Tokenize into words\n",
        "word_tokens = word_tokenize(text_chatbot)\n",
        "print(\"Words:\\n\", word_tokens)\n",
        "\n",
        "# Lemmatization\n",
        "lemmatizer = WordNetLemmatizer()\n",
        "lemmatized_words = [lemmatizer.lemmatize(word) for word in word_tokens]\n",
        "print(\"Lemmatized words:\\n\", lemmatized_words)\n",
        "\n",
        "# Remove stopwords\n",
        "stop_words = set(stopwords.words('english'))\n",
        "filtered_words = [word for word in lemmatized_words if word not in stop_words]\n",
        "print(\"Filtered words:\\n\", filtered_words)\n",
        "\n",
        "print(\"Number of sentences:\", len(sent_tokens))\n",
        "print(\"Number of words:\", len(word_tokens))\n",
        "\n",
        "test_sentence = \"This is a test sentence for lemmatization.\"\n",
        "\n",
        "lemmer = nltk.stem.WordNetLemmatizer()\n",
        "#WordNet is a semantically-oriented dictionary of English included in NLTK.\n",
        "def LemTokens(tokens):\n",
        "    return [lemmer.lemmatize(token) for token in tokens]\n",
        "remove_punct_dict = dict((ord(punct), None) for punct in string.punctuation)\n",
        "def LemNormalize(text):\n",
        "    return LemTokens(nltk.word_tokenize(text.lower().translate(remove_punct_dict)))\n",
        "\n",
        "normalized_tokens = LemNormalize(test_sentence)\n",
        "print(normalized_tokens)"
      ]
    },
    {
      "cell_type": "code",
      "source": [
        "# to lowercase\n",
        "text_chatbot = text_chatbot.lower()\n",
        "print(text_chatbot)"
      ],
      "metadata": {
        "colab": {
          "base_uri": "https://localhost:8080/"
        },
        "id": "NuZCxWhy3UO8",
        "outputId": "c9e96d5a-f572-4bbd-ab76-fe3146747e63"
      },
      "execution_count": 63,
      "outputs": [
        {
          "output_type": "stream",
          "name": "stdout",
          "text": [
            "la felicidad es un estado de ánimo deseado y perseguido por muchas personas en todo el mundo. se trata de una sensación de bienestar y satisfacción interna que puede manifestarse de diversas maneras. la búsqueda de la felicidad es un objetivo común para muchas personas, ya que todos anhelamos experimentar momentos de alegría y plenitud en nuestras vidas.\n",
            "\n",
            "la felicidad puede encontrarse en las pequeñas cosas de la vida, como disfrutar de una comida deliciosa, compartir momentos especiales con seres queridos, contemplar un hermoso paisaje o simplemente reír a carcajadas. también puede estar vinculada al logro de metas personales, alcanzar el éxito profesional, encontrar el amor verdadero o experimentar un sentido de propósito y significado en la vida.\n",
            "\n",
            "es importante destacar que la felicidad no es un estado permanente, sino más bien una emoción fugaz que viene y va. todos enfrentamos desafíos y adversidades en nuestras vidas que pueden afectar nuestra felicidad en diferentes momentos. sin embargo, aprender a manejar esas situaciones difíciles y cultivar una mentalidad positiva puede ayudarnos a encontrar la felicidad incluso en tiempos de adversidad.\n",
            "\n",
            "la felicidad también está estrechamente relacionada con la gratitud y la apreciación de lo que tenemos. apreciar las pequeñas cosas y encontrar alegría en lo cotidiano puede marcar una gran diferencia en nuestra felicidad general. además, cultivar relaciones saludables, practicar el autocuidado, buscar actividades que nos apasionen y fomentar un sentido de comunidad y conexión con los demás también contribuyen a nuestra felicidad.\n",
            "\n",
            "cada persona tiene su propia definición y camino hacia la felicidad, ya que lo que nos hace felices puede variar de un individuo a otro. es un viaje personal y único que requiere autoexploración y autenticidad. en última instancia, la felicidad reside en nosotros mismos y depende de cómo elijamos vivir nuestras vidas, encontrar significado y perseguir aquello que nos hace sentir plenos y satisfechos.\n",
            "\n",
            "recuerda que la felicidad no es un destino final, sino un viaje continuo. buscar la felicidad implica cultivar una mentalidad positiva, aprender a manejar los desafíos y vivir en armonía con nuestros valores y propósitos. al hacerlo, podemos encontrar alegría y satisfacción en cada paso del camino y disfrutar de una vida más plena y significativa.\n"
          ]
        }
      ]
    },
    {
      "cell_type": "code",
      "source": [
        "sent_tokens = nltk.sent_tokenize(text_chatbot)# converts documents to list of sentences\n",
        "print(sent_tokens)\n"
      ],
      "metadata": {
        "colab": {
          "base_uri": "https://localhost:8080/"
        },
        "id": "tJepSulb3Z5k",
        "outputId": "669f2fff-dac0-4a54-c8de-4d5266875211"
      },
      "execution_count": 64,
      "outputs": [
        {
          "output_type": "stream",
          "name": "stdout",
          "text": [
            "['la felicidad es un estado de ánimo deseado y perseguido por muchas personas en todo el mundo.', 'se trata de una sensación de bienestar y satisfacción interna que puede manifestarse de diversas maneras.', 'la búsqueda de la felicidad es un objetivo común para muchas personas, ya que todos anhelamos experimentar momentos de alegría y plenitud en nuestras vidas.', 'la felicidad puede encontrarse en las pequeñas cosas de la vida, como disfrutar de una comida deliciosa, compartir momentos especiales con seres queridos, contemplar un hermoso paisaje o simplemente reír a carcajadas.', 'también puede estar vinculada al logro de metas personales, alcanzar el éxito profesional, encontrar el amor verdadero o experimentar un sentido de propósito y significado en la vida.', 'es importante destacar que la felicidad no es un estado permanente, sino más bien una emoción fugaz que viene y va. todos enfrentamos desafíos y adversidades en nuestras vidas que pueden afectar nuestra felicidad en diferentes momentos.', 'sin embargo, aprender a manejar esas situaciones difíciles y cultivar una mentalidad positiva puede ayudarnos a encontrar la felicidad incluso en tiempos de adversidad.', 'la felicidad también está estrechamente relacionada con la gratitud y la apreciación de lo que tenemos.', 'apreciar las pequeñas cosas y encontrar alegría en lo cotidiano puede marcar una gran diferencia en nuestra felicidad general.', 'además, cultivar relaciones saludables, practicar el autocuidado, buscar actividades que nos apasionen y fomentar un sentido de comunidad y conexión con los demás también contribuyen a nuestra felicidad.', 'cada persona tiene su propia definición y camino hacia la felicidad, ya que lo que nos hace felices puede variar de un individuo a otro.', 'es un viaje personal y único que requiere autoexploración y autenticidad.', 'en última instancia, la felicidad reside en nosotros mismos y depende de cómo elijamos vivir nuestras vidas, encontrar significado y perseguir aquello que nos hace sentir plenos y satisfechos.', 'recuerda que la felicidad no es un destino final, sino un viaje continuo.', 'buscar la felicidad implica cultivar una mentalidad positiva, aprender a manejar los desafíos y vivir en armonía con nuestros valores y propósitos.', 'al hacerlo, podemos encontrar alegría y satisfacción en cada paso del camino y disfrutar de una vida más plena y significativa.']\n"
          ]
        }
      ]
    },
    {
      "cell_type": "code",
      "source": [
        "lemmer = nltk.stem.WordNetLemmatizer()\n",
        "#WordNet is a semantically-oriented dictionary of English included in NLTK.\n",
        "def LemTokens(tokens):\n",
        "    return [lemmer.lemmatize(token) for token in tokens]\n",
        "remove_punct_dict = dict((ord(punct), None) for punct in string.punctuation)\n",
        "def LemNormalize(text):\n",
        "    return LemTokens(nltk.word_tokenize(text.lower().translate(remove_punct_dict)))\n",
        "\n",
        "LemTokens(sent_tokens)\n"
      ],
      "metadata": {
        "colab": {
          "base_uri": "https://localhost:8080/"
        },
        "id": "9AyzhsFOC4bZ",
        "outputId": "469ae5b9-fd7a-4008-a542-92cbed5a48a1"
      },
      "execution_count": 66,
      "outputs": [
        {
          "output_type": "execute_result",
          "data": {
            "text/plain": [
              "['la felicidad es un estado de ánimo deseado y perseguido por muchas personas en todo el mundo.',\n",
              " 'se trata de una sensación de bienestar y satisfacción interna que puede manifestarse de diversas maneras.',\n",
              " 'la búsqueda de la felicidad es un objetivo común para muchas personas, ya que todos anhelamos experimentar momentos de alegría y plenitud en nuestras vidas.',\n",
              " 'la felicidad puede encontrarse en las pequeñas cosas de la vida, como disfrutar de una comida deliciosa, compartir momentos especiales con seres queridos, contemplar un hermoso paisaje o simplemente reír a carcajadas.',\n",
              " 'también puede estar vinculada al logro de metas personales, alcanzar el éxito profesional, encontrar el amor verdadero o experimentar un sentido de propósito y significado en la vida.',\n",
              " 'es importante destacar que la felicidad no es un estado permanente, sino más bien una emoción fugaz que viene y va. todos enfrentamos desafíos y adversidades en nuestras vidas que pueden afectar nuestra felicidad en diferentes momentos.',\n",
              " 'sin embargo, aprender a manejar esas situaciones difíciles y cultivar una mentalidad positiva puede ayudarnos a encontrar la felicidad incluso en tiempos de adversidad.',\n",
              " 'la felicidad también está estrechamente relacionada con la gratitud y la apreciación de lo que tenemos.',\n",
              " 'apreciar las pequeñas cosas y encontrar alegría en lo cotidiano puede marcar una gran diferencia en nuestra felicidad general.',\n",
              " 'además, cultivar relaciones saludables, practicar el autocuidado, buscar actividades que nos apasionen y fomentar un sentido de comunidad y conexión con los demás también contribuyen a nuestra felicidad.',\n",
              " 'cada persona tiene su propia definición y camino hacia la felicidad, ya que lo que nos hace felices puede variar de un individuo a otro.',\n",
              " 'es un viaje personal y único que requiere autoexploración y autenticidad.',\n",
              " 'en última instancia, la felicidad reside en nosotros mismos y depende de cómo elijamos vivir nuestras vidas, encontrar significado y perseguir aquello que nos hace sentir plenos y satisfechos.',\n",
              " 'recuerda que la felicidad no es un destino final, sino un viaje continuo.',\n",
              " 'buscar la felicidad implica cultivar una mentalidad positiva, aprender a manejar los desafíos y vivir en armonía con nuestros valores y propósitos.',\n",
              " 'al hacerlo, podemos encontrar alegría y satisfacción en cada paso del camino y disfrutar de una vida más plena y significativa.']"
            ]
          },
          "metadata": {},
          "execution_count": 66
        }
      ]
    },
    {
      "cell_type": "code",
      "source": [
        "GREETING_INPUTS = (\"hello\", \"hi\", \"greetings\", \"sup\", \"what's up\",\"hey\",)\n",
        "GREETING_RESPONSES = [\"hi\", \"hey\", \"*nods*\", \"hi there\", \"hello\", \"I am glad! You are talking to me\"]\n",
        "def greeting(sentence):\n",
        " \n",
        "    for word in sentence.split():\n",
        "        if word.lower() in GREETING_INPUTS:\n",
        "            return random.choice(GREETING_RESPONSES)\n",
        "\n",
        "greeting('hello')"
      ],
      "metadata": {
        "colab": {
          "base_uri": "https://localhost:8080/",
          "height": 36
        },
        "id": "8w3rT6zECfIr",
        "outputId": "93f4cfbe-45c4-4ae9-a0fe-cbbc0f63aca0"
      },
      "execution_count": 67,
      "outputs": [
        {
          "output_type": "execute_result",
          "data": {
            "text/plain": [
              "'hi'"
            ],
            "application/vnd.google.colaboratory.intrinsic+json": {
              "type": "string"
            }
          },
          "metadata": {},
          "execution_count": 67
        }
      ]
    },
    {
      "cell_type": "code",
      "source": [
        "def response(user_response):\n",
        "    robo_response=''\n",
        "    sent_tokens.append(user_response)\n",
        "    TfidfVec = TfidfVectorizer(tokenizer=LemNormalize, stop_words='english')\n",
        "    tfidf = TfidfVec.fit_transform(sent_tokens)\n",
        "    vals = cosine_similarity(tfidf[-1], tfidf)\n",
        "    idx=vals.argsort()[0][-2]\n",
        "    flat = vals.flatten()\n",
        "    flat.sort()\n",
        "    req_tfidf = flat[-2]\n",
        "    if(req_tfidf==0):\n",
        "        robo_response=robo_response+\"I am sorry! I don't understand you\"\n",
        "        return robo_response\n",
        "    else:\n",
        "        robo_response = robo_response+sent_tokens[idx]\n",
        "        return robo_response"
      ],
      "metadata": {
        "id": "7exOl6c1CYuo"
      },
      "execution_count": 68,
      "outputs": []
    },
    {
      "cell_type": "code",
      "source": [
        "def get_current_time():\n",
        "    current_time = datetime.datetime.now().strftime(\"%H:%M:%S\")  # Get the current time in the format HH:MM:SS\n",
        "    return current_time"
      ],
      "metadata": {
        "id": "XwmRj5sYFPu-"
      },
      "execution_count": 69,
      "outputs": []
    },
    {
      "cell_type": "code",
      "source": [
        "flag=True\n",
        "print(\"ROBO: My name is Robo. I will answer your queries about Chatbots. If you want to exit, type Bye!\")\n",
        "while(flag==True):\n",
        "    user_response = input()\n",
        "    user_response=user_response.lower()\n",
        "    if(user_response!='bye'):\n",
        "        if(user_response=='thanks' or user_response=='thank you' ):\n",
        "            flag=False\n",
        "            print(\"ROBO: You are welcome..\")\n",
        "        else:\n",
        "            if(user_response =='time'):\n",
        "                print(\"The current time is \" + get_current_time())\n",
        "            if(greeting(user_response)!=None):\n",
        "                print(\"ROBO: \"+greeting(user_response))\n",
        "            else:\n",
        "                print(\"ROBO: \",end=\"\")\n",
        "                print(response(user_response))\n",
        "                sent_tokens.remove(user_response)\n",
        "    else:\n",
        "        flag=False\n",
        "        print(\"ROBO: Bye! take care..\")"
      ],
      "metadata": {
        "colab": {
          "base_uri": "https://localhost:8080/",
          "height": 539
        },
        "id": "7GPaD7-9CUWa",
        "outputId": "5fc8b2c3-b6bb-4334-e000-725b014de1cd"
      },
      "execution_count": 61,
      "outputs": [
        {
          "name": "stdout",
          "output_type": "stream",
          "text": [
            "ROBO: My name is Robo. I will answer your queries about Chatbots. If you want to exit, type Bye!\n",
            "time\n"
          ]
        },
        {
          "output_type": "stream",
          "name": "stderr",
          "text": [
            "/usr/local/lib/python3.10/dist-packages/sklearn/feature_extraction/text.py:528: UserWarning: The parameter 'token_pattern' will not be used since 'tokenizer' is not None'\n",
            "  warnings.warn(\n",
            "/usr/local/lib/python3.10/dist-packages/sklearn/feature_extraction/text.py:409: UserWarning: Your stop_words may be inconsistent with your preprocessing. Tokenizing the stop words generated tokens ['ha', 'le', 'u', 'wa'] not in stop_words.\n",
            "  warnings.warn(\n"
          ]
        },
        {
          "output_type": "stream",
          "name": "stdout",
          "text": [
            "The current time is 18:04:08\n",
            "ROBO: however, this is changing over time.\n"
          ]
        },
        {
          "output_type": "error",
          "ename": "KeyboardInterrupt",
          "evalue": "ignored",
          "traceback": [
            "\u001b[0;31m---------------------------------------------------------------------------\u001b[0m",
            "\u001b[0;31mKeyboardInterrupt\u001b[0m                         Traceback (most recent call last)",
            "\u001b[0;32m<ipython-input-61-767f97801735>\u001b[0m in \u001b[0;36m<cell line: 3>\u001b[0;34m()\u001b[0m\n\u001b[1;32m      2\u001b[0m \u001b[0mprint\u001b[0m\u001b[0;34m(\u001b[0m\u001b[0;34m\"ROBO: My name is Robo. I will answer your queries about Chatbots. If you want to exit, type Bye!\"\u001b[0m\u001b[0;34m)\u001b[0m\u001b[0;34m\u001b[0m\u001b[0;34m\u001b[0m\u001b[0m\n\u001b[1;32m      3\u001b[0m \u001b[0;32mwhile\u001b[0m\u001b[0;34m(\u001b[0m\u001b[0mflag\u001b[0m\u001b[0;34m==\u001b[0m\u001b[0;32mTrue\u001b[0m\u001b[0;34m)\u001b[0m\u001b[0;34m:\u001b[0m\u001b[0;34m\u001b[0m\u001b[0;34m\u001b[0m\u001b[0m\n\u001b[0;32m----> 4\u001b[0;31m     \u001b[0muser_response\u001b[0m \u001b[0;34m=\u001b[0m \u001b[0minput\u001b[0m\u001b[0;34m(\u001b[0m\u001b[0;34m)\u001b[0m\u001b[0;34m\u001b[0m\u001b[0;34m\u001b[0m\u001b[0m\n\u001b[0m\u001b[1;32m      5\u001b[0m     \u001b[0muser_response\u001b[0m\u001b[0;34m=\u001b[0m\u001b[0muser_response\u001b[0m\u001b[0;34m.\u001b[0m\u001b[0mlower\u001b[0m\u001b[0;34m(\u001b[0m\u001b[0;34m)\u001b[0m\u001b[0;34m\u001b[0m\u001b[0;34m\u001b[0m\u001b[0m\n\u001b[1;32m      6\u001b[0m     \u001b[0;32mif\u001b[0m\u001b[0;34m(\u001b[0m\u001b[0muser_response\u001b[0m\u001b[0;34m!=\u001b[0m\u001b[0;34m'bye'\u001b[0m\u001b[0;34m)\u001b[0m\u001b[0;34m:\u001b[0m\u001b[0;34m\u001b[0m\u001b[0;34m\u001b[0m\u001b[0m\n",
            "\u001b[0;32m/usr/local/lib/python3.10/dist-packages/ipykernel/kernelbase.py\u001b[0m in \u001b[0;36mraw_input\u001b[0;34m(self, prompt)\u001b[0m\n\u001b[1;32m    849\u001b[0m                 \u001b[0;34m\"raw_input was called, but this frontend does not support input requests.\"\u001b[0m\u001b[0;34m\u001b[0m\u001b[0;34m\u001b[0m\u001b[0m\n\u001b[1;32m    850\u001b[0m             )\n\u001b[0;32m--> 851\u001b[0;31m         return self._input_request(str(prompt),\n\u001b[0m\u001b[1;32m    852\u001b[0m             \u001b[0mself\u001b[0m\u001b[0;34m.\u001b[0m\u001b[0m_parent_ident\u001b[0m\u001b[0;34m,\u001b[0m\u001b[0;34m\u001b[0m\u001b[0;34m\u001b[0m\u001b[0m\n\u001b[1;32m    853\u001b[0m             \u001b[0mself\u001b[0m\u001b[0;34m.\u001b[0m\u001b[0m_parent_header\u001b[0m\u001b[0;34m,\u001b[0m\u001b[0;34m\u001b[0m\u001b[0;34m\u001b[0m\u001b[0m\n",
            "\u001b[0;32m/usr/local/lib/python3.10/dist-packages/ipykernel/kernelbase.py\u001b[0m in \u001b[0;36m_input_request\u001b[0;34m(self, prompt, ident, parent, password)\u001b[0m\n\u001b[1;32m    893\u001b[0m             \u001b[0;32mexcept\u001b[0m \u001b[0mKeyboardInterrupt\u001b[0m\u001b[0;34m:\u001b[0m\u001b[0;34m\u001b[0m\u001b[0;34m\u001b[0m\u001b[0m\n\u001b[1;32m    894\u001b[0m                 \u001b[0;31m# re-raise KeyboardInterrupt, to truncate traceback\u001b[0m\u001b[0;34m\u001b[0m\u001b[0;34m\u001b[0m\u001b[0m\n\u001b[0;32m--> 895\u001b[0;31m                 \u001b[0;32mraise\u001b[0m \u001b[0mKeyboardInterrupt\u001b[0m\u001b[0;34m(\u001b[0m\u001b[0;34m\"Interrupted by user\"\u001b[0m\u001b[0;34m)\u001b[0m \u001b[0;32mfrom\u001b[0m \u001b[0;32mNone\u001b[0m\u001b[0;34m\u001b[0m\u001b[0;34m\u001b[0m\u001b[0m\n\u001b[0m\u001b[1;32m    896\u001b[0m             \u001b[0;32mexcept\u001b[0m \u001b[0mException\u001b[0m \u001b[0;32mas\u001b[0m \u001b[0me\u001b[0m\u001b[0;34m:\u001b[0m\u001b[0;34m\u001b[0m\u001b[0;34m\u001b[0m\u001b[0m\n\u001b[1;32m    897\u001b[0m                 \u001b[0mself\u001b[0m\u001b[0;34m.\u001b[0m\u001b[0mlog\u001b[0m\u001b[0;34m.\u001b[0m\u001b[0mwarning\u001b[0m\u001b[0;34m(\u001b[0m\u001b[0;34m\"Invalid Message:\"\u001b[0m\u001b[0;34m,\u001b[0m \u001b[0mexc_info\u001b[0m\u001b[0;34m=\u001b[0m\u001b[0;32mTrue\u001b[0m\u001b[0;34m)\u001b[0m\u001b[0;34m\u001b[0m\u001b[0;34m\u001b[0m\u001b[0m\n",
            "\u001b[0;31mKeyboardInterrupt\u001b[0m: Interrupted by user"
          ]
        }
      ]
    }
  ]
}